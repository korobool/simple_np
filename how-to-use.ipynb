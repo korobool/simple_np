{
 "cells": [
  {
   "cell_type": "markdown",
   "metadata": {},
   "source": [
    "# Simple guide on a simple thing\n",
    "\n",
    "First, ipmort needed functions"
   ]
  },
  {
   "cell_type": "code",
   "execution_count": 6,
   "metadata": {},
   "outputs": [],
   "source": [
    "from np_extractor import get_nps_from_text, get_nps_from_tokens"
   ]
  },
  {
   "cell_type": "markdown",
   "metadata": {},
   "source": [
    "#### If you just want to get NP groups from a text\n",
    "Just call a ```get_nps_from_text()``` giving the text as an input."
   ]
  },
  {
   "cell_type": "code",
   "execution_count": 29,
   "metadata": {},
   "outputs": [
    {
     "name": "stdout",
     "output_type": "stream",
     "text": [
      "['a fucking shame', 'the wildlife', 'a noun chunk']\n"
     ]
    }
   ],
   "source": [
    "text = 'What a fucking shame you do not look after the wildlife as well as a noun chunk.'\n",
    "\n",
    "print(get_nps_from_text(text))"
   ]
  },
  {
   "cell_type": "markdown",
   "metadata": {},
   "source": [
    "#### If you want get some more advanced info on rules which caused mathces and tokens indecies\n",
    "\n",
    "Use NLTK to obtain tagged tokens like this\n",
    "```python\n",
    "from nltk.tokenize import word_tokenize\n",
    "from nltk import pos_tag\n",
    "pos_tag(word_tokenize(text))\n",
    "```\n",
    "\n",
    "and feed the list to ```get_nps_from_tokens()```\n"
   ]
  },
  {
   "cell_type": "code",
   "execution_count": 30,
   "metadata": {},
   "outputs": [
    {
     "name": "stdout",
     "output_type": "stream",
     "text": [
      "{'matches': [(1, 3), (9, 10), (14, 16)], 'rules': [('DT', 'NN'), ('DT', 'NN'), ('DT', 'JJ', 'NN')], 'matches_text': [['a', 'fucking', 'shame'], ['the', 'wildlife'], ['a', 'noun', 'chunk']]}\n"
     ]
    }
   ],
   "source": [
    "from nltk.tokenize import word_tokenize\n",
    "from nltk import pos_tag\n",
    "\n",
    "print(get_nps_from_tokens(pos_tag(word_tokenize(text))))"
   ]
  }
 ],
 "metadata": {
  "kernelspec": {
   "display_name": "Python 3",
   "language": "python",
   "name": "python3"
  },
  "language_info": {
   "codemirror_mode": {
    "name": "ipython",
    "version": 3
   },
   "file_extension": ".py",
   "mimetype": "text/x-python",
   "name": "python",
   "nbconvert_exporter": "python",
   "pygments_lexer": "ipython3",
   "version": "3.6.5"
  }
 },
 "nbformat": 4,
 "nbformat_minor": 2
}
